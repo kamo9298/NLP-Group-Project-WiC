{
 "cells": [
  {
   "cell_type": "code",
   "execution_count": 8,
   "id": "78a7adff",
   "metadata": {
    "scrolled": true
   },
   "outputs": [],
   "source": [
    "import transformers\n",
    "import pandas as pd\n",
    "import json\n",
    "import torch\n",
    "from torch import nn\n",
    "from torch import optim\n",
    "import random"
   ]
  },
  {
   "cell_type": "code",
   "execution_count": 9,
   "id": "52f57a41",
   "metadata": {},
   "outputs": [
    {
     "name": "stdout",
     "output_type": "stream",
     "text": [
      "    word                                    sentence1  \\\n",
      "0  place  Do you want to come over to my place later?   \n",
      "\n",
      "                                           sentence2  idx  label  start1  \\\n",
      "0  A political system with no place for the less ...    0  False      31   \n",
      "\n",
      "   start2  end1  end2  version  \n",
      "0      27    36    32      1.1  \n"
     ]
    }
   ],
   "source": [
    "#turing data json into pandas dataframe\n",
    "wic_df = pd.read_json('WiC/train.jsonl', lines=True)\n",
    "print(wic_df.iloc[0:1])"
   ]
  },
  {
   "cell_type": "code",
   "execution_count": null,
   "id": "f730e463",
   "metadata": {},
   "outputs": [],
   "source": [
    "#open and read train data set\n",
    "#calculate probabilities of T/F of each word and store them"
   ]
  },
  {
   "cell_type": "code",
   "execution_count": null,
   "id": "747cd29b",
   "metadata": {},
   "outputs": [],
   "source": [
    "#read the two sentences and extract the word that is the same\n",
    "#BERT"
   ]
  },
  {
   "cell_type": "code",
   "execution_count": 1,
   "id": "205dba8b",
   "metadata": {},
   "outputs": [],
   "source": [
    "#look for the probability of that word to be T/F and assign it"
   ]
  },
  {
   "cell_type": "code",
   "execution_count": null,
   "id": "08b98212",
   "metadata": {},
   "outputs": [],
   "source": [
    "#do all of the imports \n",
    "#load in the data\n",
    "#Use import transformers to get our pretrained model\n",
    "#Tokenize our data using the pretrained BERT model"
   ]
  }
 ],
 "metadata": {
  "kernelspec": {
   "display_name": "Python 3",
   "language": "python",
   "name": "python3"
  },
  "language_info": {
   "codemirror_mode": {
    "name": "ipython",
    "version": 3
   },
   "file_extension": ".py",
   "mimetype": "text/x-python",
   "name": "python",
   "nbconvert_exporter": "python",
   "pygments_lexer": "ipython3",
   "version": "3.8.8"
  }
 },
 "nbformat": 4,
 "nbformat_minor": 5
}
