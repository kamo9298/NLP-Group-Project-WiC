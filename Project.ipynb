{
 "cells": [
  {
   "cell_type": "code",
   "execution_count": 22,
   "id": "c4328cbc",
   "metadata": {},
   "outputs": [],
   "source": [
    "import torch\n",
    "from torch import nn\n",
    "from torch import optim\n",
    "import sys\n",
    "import numpy as np\n",
    "import random as rn\n",
    "#BertModel\n",
    "from pytorch_pretrained_bert import BertModel\n",
    "from torchnlp.datasets import imdb_dataset\n",
    "#from keras.preprocessing.sequence import pad_sequences\n",
    "from torch.utils.data import TensorDataset, DataLoader, RandomSampler, SequentialSampler\n",
    "from torch.optim import Adam\n",
    "from torch.nn.utils import clip_grad_norm_\n",
    "from IPython.display import clear_output\n",
    "\n",
    "import json\n",
    "import collections\n",
    "import pandas as pd\n",
    "import transformers\n",
    "from transformers import BertTokenizer\n",
    "\n",
    "# This is a function that prints the number of trainable parameters \n",
    "# of a model.\n",
    "def count_parameters(model):\n",
    "    return sum(p.numel() for p in model.parameters() if p.requires_grad)\n",
    "\n",
    "# This functions prints all parameters (and their gradients) of a model.\n",
    "def print_parameters(model):\n",
    "    for name, param in model.named_parameters():\n",
    "        print(name)\n",
    "        print(param.data)\n",
    "        print(param.grad)"
   ]
  },
  {
   "cell_type": "code",
   "execution_count": 23,
   "id": "56a579c1",
   "metadata": {},
   "outputs": [],
   "source": [
    "from sklearn.feature_extraction.text import CountVectorizer\n",
    "from sklearn.linear_model import LogisticRegression\n",
    "from sklearn.pipeline import make_pipeline\n",
    "from sklearn.metrics import classification_report"
   ]
  },
  {
   "cell_type": "code",
   "execution_count": 24,
   "id": "0251a67d",
   "metadata": {},
   "outputs": [],
   "source": [
    "class BertBinaryClassifier(nn.Module):\n",
    "    def __init__(self, dropout = 0.1):\n",
    "        super(BertBinaryClassifier, self).__init()\n",
    "        self.bert = BertModel.from_pretrained('bert-base-uncased')\n",
    "        self.dropout = nn.Dropout(dropout)\n",
    "        self.linear = nn.Linear(768, 1)\n",
    "        self. sigmoid = nn.Sigmoid()\n",
    "        \n",
    "    def forward(self, tokens, masks = None):\n",
    "        _, pooled_output = self.bert(tokens, attention_mask = masks, output_all_encoded_layers = False)\n",
    "        dropout_output = self.dropout(pooled_output)\n",
    "        linear_output = self.linear(dropout_output)\n",
    "        proba = self.sigmoid(linear_output)\n",
    "        return proba"
   ]
  },
  {
   "cell_type": "code",
   "execution_count": 25,
   "id": "c6524690",
   "metadata": {},
   "outputs": [],
   "source": [
    "def load_json_file(filename):\n",
    "    json_objects = []\n",
    "    with open(filename, mode = \"r\") as jsonl_file:\n",
    "        for line in jsonl_file:\n",
    "            json_objects.append(json.loads(line))\n",
    "    return json_objects"
   ]
  },
  {
   "cell_type": "code",
   "execution_count": 26,
   "id": "dce918f1",
   "metadata": {},
   "outputs": [
    {
     "name": "stdout",
     "output_type": "stream",
     "text": [
      "[{'word': 'place', 'sentence1': 'Do you want to come over to my place later?', 'sentence2': 'A political system with no place for the less prominent groups.', 'idx': 0, 'label': False, 'start1': 31, 'start2': 27, 'end1': 36, 'end2': 32, 'version': 1.1}]\n"
     ]
    }
   ],
   "source": [
    "train_json_objs = load_json_file('/Users/huajianqiao/Desktop/NLP/WiC/train.jsonl')\n",
    "print(train_json_objs[0:1])"
   ]
  },
  {
   "cell_type": "code",
   "execution_count": null,
   "id": "b28de005",
   "metadata": {},
   "outputs": [],
   "source": []
  },
  {
   "cell_type": "code",
   "execution_count": null,
   "id": "90b239dc",
   "metadata": {},
   "outputs": [],
   "source": []
  }
 ],
 "metadata": {
  "kernelspec": {
   "display_name": "Python 3",
   "language": "python",
   "name": "python3"
  },
  "language_info": {
   "codemirror_mode": {
    "name": "ipython",
    "version": 3
   },
   "file_extension": ".py",
   "mimetype": "text/x-python",
   "name": "python",
   "nbconvert_exporter": "python",
   "pygments_lexer": "ipython3",
   "version": "3.8.8"
  }
 },
 "nbformat": 4,
 "nbformat_minor": 5
}
